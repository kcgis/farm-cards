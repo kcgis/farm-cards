{
 "cells": [
  {
   "cell_type": "markdown",
   "metadata": {
    "heading_collapsed": true,
    "slideshow": {
     "slide_type": "slide"
    }
   },
   "source": [
    "# Farm Card Caculations: Outline\n",
    "\n",
    "1. Background\n",
    "2. Notebook Setup\n",
    "3. The Process\n",
    "4. Alterations\n",
    "5. Questions?"
   ]
  },
  {
   "cell_type": "markdown",
   "metadata": {
    "slideshow": {
     "slide_type": "slide"
    }
   },
   "source": [
    "# Background"
   ]
  },
  {
   "cell_type": "markdown",
   "metadata": {
    "slideshow": {
     "slide_type": "subslide"
    }
   },
   "source": [
    "Some content to go here about farm cards."
   ]
  },
  {
   "cell_type": "markdown",
   "metadata": {
    "slideshow": {
     "slide_type": "slide"
    }
   },
   "source": [
    "# Set Up Notebook Environment\n",
    "\n",
    "As with any bit of code, there are a few things we need to get situated before we really start in."
   ]
  },
  {
   "cell_type": "markdown",
   "metadata": {
    "slideshow": {
     "slide_type": "subslide"
    }
   },
   "source": [
    "## Import Modules\n",
    "\n",
    "We'll be using the following modules in this notebook:\n",
    "\n",
    "* GeoPandas\n",
    "* Requests\n",
    "* MatPlotLib"
   ]
  },
  {
   "cell_type": "markdown",
   "metadata": {
    "slideshow": {
     "slide_type": "subslide"
    }
   },
   "source": [
    "### [GeoPandas](https://geopandas.org/)\n",
    "\n",
    "* Spatially enabled extension of **[pandas](https://pandas.pydata.org/)**, a popular Python data manipulation module\n",
    "* Uses **[Shapely](https://shapely.readthedocs.io/en/latest/)** to handle spatial operations\n",
    "* Uses **[Fiona](https://fiona.readthedocs.io/en/latest/README.html)** for reading and writing to diverse spatial data and file types\n"
   ]
  },
  {
   "cell_type": "markdown",
   "metadata": {
    "slideshow": {
     "slide_type": "subslide"
    }
   },
   "source": [
    "### [Requests](https://docs.python-requests.org/en/master/)\n",
    "\n",
    "* Easily encode URL requests\n",
    "* Parse response in a variety of formats\n",
    "* In this case, used to query ArcGIS Server REST endpoints"
   ]
  },
  {
   "cell_type": "markdown",
   "metadata": {
    "slideshow": {
     "slide_type": "subslide"
    }
   },
   "source": [
    "### [MatPlotLib](https://matplotlib.org/)\n",
    "\n",
    "* Well-developed visualization library\n",
    "* **GeoPandas** (and **pandas**) written with deep MatPlotLib integration"
   ]
  },
  {
   "cell_type": "code",
   "execution_count": 1,
   "metadata": {
    "slideshow": {
     "slide_type": "subslide"
    }
   },
   "outputs": [],
   "source": [
    "import requests\n",
    "import geopandas as gp\n",
    "import matplotlib.pyplot as plt"
   ]
  },
  {
   "cell_type": "markdown",
   "metadata": {
    "slideshow": {
     "slide_type": "subslide"
    }
   },
   "source": [
    "### A Few Global Variables\n",
    "\n",
    "There are a few variables that we'll declare here at the top. We do this because:\n",
    "1. It makes it easier to reference\n",
    "2. Users wishing to adapt this for their own use don't need to look all over the notebook for where to change things"
   ]
  },
  {
   "cell_type": "code",
   "execution_count": 2,
   "metadata": {
    "slideshow": {
     "slide_type": "subslide"
    }
   },
   "outputs": [],
   "source": [
    "# Spatial reference for layers\n",
    "sr = \"{'wkid': 3435}\""
   ]
  },
  {
   "cell_type": "code",
   "execution_count": 3,
   "metadata": {
    "slideshow": {
     "slide_type": "fragment"
    }
   },
   "outputs": [],
   "source": [
    "# Parcels REST service\n",
    "parcels_url = 'https://maps.co.kendall.il.us/server/rest/services/Hosted/Current_Cadastral_Features/FeatureServer/1/query?'"
   ]
  },
  {
   "cell_type": "code",
   "execution_count": 4,
   "metadata": {
    "slideshow": {
     "slide_type": "fragment"
    }
   },
   "outputs": [],
   "source": [
    "# SSURGO Soils REST service\n",
    "soils_url = 'https://maps.co.kendall.il.us/server/rest/services/Hosted/Assessor_Soils/FeatureServer/0/query?'"
   ]
  },
  {
   "cell_type": "code",
   "execution_count": 5,
   "metadata": {
    "slideshow": {
     "slide_type": "fragment"
    }
   },
   "outputs": [],
   "source": [
    "# Landuse REST service\n",
    "landuse_url = 'https://maps.co.kendall.il.us/server/rest/services/Hosted/Assessor_Landuse/FeatureServer/0/query?'"
   ]
  },
  {
   "cell_type": "markdown",
   "metadata": {
    "heading_collapsed": true,
    "slideshow": {
     "slide_type": "slide"
    }
   },
   "source": [
    "# Parcels"
   ]
  },
  {
   "cell_type": "markdown",
   "metadata": {
    "hidden": true,
    "slideshow": {
     "slide_type": "subslide"
    }
   },
   "source": [
    "## Constructing the Query"
   ]
  },
  {
   "cell_type": "markdown",
   "metadata": {
    "hidden": true,
    "slideshow": {
     "slide_type": "fragment"
    }
   },
   "source": [
    "In this example, we're using a local file, `input_pins.txt`, which contains the PINs listed below:\n",
    "\n",
    "```txt\n",
    "07-35-400-005\n",
    "07-36-300-004\n",
    "07-36-300-006\n",
    "07-36-100-001\n",
    "07-35-200-005\n",
    "```"
   ]
  },
  {
   "cell_type": "markdown",
   "metadata": {
    "hidden": true,
    "slideshow": {
     "slide_type": "subslide"
    }
   },
   "source": [
    "We'll use a `with... as` command to temporarily open the file and read its contents into a variable. Using Python list comprehension, `[something(x) for x in y]`, we can succinctly compile a list of strings."
   ]
  },
  {
   "cell_type": "code",
   "execution_count": 7,
   "metadata": {
    "hidden": true,
    "slideshow": {
     "slide_type": "fragment"
    }
   },
   "outputs": [
    {
     "data": {
      "text/plain": [
       "[\"'07-35-400-005'\",\n",
       " \"'07-36-300-004'\",\n",
       " \"'07-36-300-006'\",\n",
       " \"'07-36-100-001'\",\n",
       " \"'07-35-200-005'\"]"
      ]
     },
     "execution_count": 7,
     "metadata": {},
     "output_type": "execute_result"
    }
   ],
   "source": [
    "with open('input_pins.txt', 'r') as file:\n",
    "    pin_list = [\"'\" + pin + \"'\" for pin in file.read().split('\\n')]\n",
    "\n",
    "pin_list"
   ]
  },
  {
   "cell_type": "markdown",
   "metadata": {
    "hidden": true,
    "slideshow": {
     "slide_type": "subslide"
    }
   },
   "source": [
    "Why the single-quotes? Because these PINs are going to populate the `where` clause we submit to the REST service. The clause has to be formatted as valid SQL in order to evaluate.\n",
    "\n",
    "In our query, we'll be filtering the results using `IN` on a **string** field, so each value needs to be quoted out, and being SQL, must be single-quotes to be read as string values.\n",
    "\n",
    "Also, rather than concatenate multiple strings, we're using Python's *f-strings* to build the where clause."
   ]
  },
  {
   "cell_type": "code",
   "execution_count": 8,
   "metadata": {
    "hidden": true,
    "slideshow": {
     "slide_type": "fragment"
    }
   },
   "outputs": [
    {
     "name": "stdout",
     "output_type": "stream",
     "text": [
      "pin IN ('07-35-400-005','07-36-300-004','07-36-300-006','07-36-100-001','07-35-200-005')\n"
     ]
    }
   ],
   "source": [
    "print(f\"pin IN ({','.join(pin_list)})\")"
   ]
  },
  {
   "cell_type": "markdown",
   "metadata": {
    "hidden": true,
    "slideshow": {
     "slide_type": "subslide"
    }
   },
   "source": [
    "Next, we assemble the query. For performance, we'll also limit the output fields to only those necessary for the calculation, `pin` and `gross_acres`. We supply the spatial reference defined at the top, and specify GeoJSON as the output format.\n",
    "\n",
    "We then submit that query to the REST endpoint and use GeoPandas to read the response into a GeoDataFrame."
   ]
  },
  {
   "cell_type": "code",
   "execution_count": 9,
   "metadata": {
    "hidden": true,
    "slideshow": {
     "slide_type": "fragment"
    }
   },
   "outputs": [],
   "source": [
    "parcels_params = {\n",
    "    'where': f\"pin IN ({','.join(pin_list)})\",\n",
    "    'outFields': 'gross_acres, pin',\n",
    "    'outSR': sr,\n",
    "    'f': 'geojson'\n",
    "}"
   ]
  },
  {
   "cell_type": "code",
   "execution_count": 10,
   "metadata": {
    "hidden": true,
    "slideshow": {
     "slide_type": "fragment"
    }
   },
   "outputs": [],
   "source": [
    "parcels = requests.get(parcels_url, parcels_params)"
   ]
  },
  {
   "cell_type": "code",
   "execution_count": 11,
   "metadata": {
    "hidden": true,
    "slideshow": {
     "slide_type": "fragment"
    }
   },
   "outputs": [],
   "source": [
    "p_df = gp.read_file(parcels.text)"
   ]
  },
  {
   "cell_type": "markdown",
   "metadata": {
    "hidden": true,
    "slideshow": {
     "slide_type": "subslide"
    }
   },
   "source": [
    "To check on the output, we'll call the method `head` on our dataframe. This returns up to 5 of the first rows of the dataframe, and is an easy way to glance at a subset of the data when working with larger datasets."
   ]
  },
  {
   "cell_type": "code",
   "execution_count": 12,
   "metadata": {
    "hidden": true,
    "slideshow": {
     "slide_type": "fragment"
    }
   },
   "outputs": [
    {
     "data": {
      "text/html": [
       "<div>\n",
       "<style scoped>\n",
       "    .dataframe tbody tr th:only-of-type {\n",
       "        vertical-align: middle;\n",
       "    }\n",
       "\n",
       "    .dataframe tbody tr th {\n",
       "        vertical-align: top;\n",
       "    }\n",
       "\n",
       "    .dataframe thead th {\n",
       "        text-align: right;\n",
       "    }\n",
       "</style>\n",
       "<table border=\"1\" class=\"dataframe\">\n",
       "  <thead>\n",
       "    <tr style=\"text-align: right;\">\n",
       "      <th></th>\n",
       "      <th>gross_acres</th>\n",
       "      <th>pin</th>\n",
       "      <th>geometry</th>\n",
       "    </tr>\n",
       "  </thead>\n",
       "  <tbody>\n",
       "    <tr>\n",
       "      <th>0</th>\n",
       "      <td>5.99</td>\n",
       "      <td>07-36-300-006</td>\n",
       "      <td>POLYGON ((939027.737 1747725.599, 939027.787 1...</td>\n",
       "    </tr>\n",
       "    <tr>\n",
       "      <th>1</th>\n",
       "      <td>155.46</td>\n",
       "      <td>07-36-300-004</td>\n",
       "      <td>POLYGON ((939557.870 1747744.270, 939027.787 1...</td>\n",
       "    </tr>\n",
       "    <tr>\n",
       "      <th>2</th>\n",
       "      <td>40.00</td>\n",
       "      <td>07-36-100-001</td>\n",
       "      <td>POLYGON ((939557.510 1747764.271, 939533.900 1...</td>\n",
       "    </tr>\n",
       "    <tr>\n",
       "      <th>3</th>\n",
       "      <td>69.88</td>\n",
       "      <td>07-35-400-005</td>\n",
       "      <td>POLYGON ((936901.360 1747718.210, 936901.020 1...</td>\n",
       "    </tr>\n",
       "    <tr>\n",
       "      <th>4</th>\n",
       "      <td>81.17</td>\n",
       "      <td>07-35-200-005</td>\n",
       "      <td>POLYGON ((936901.020 1747738.210, 938232.990 1...</td>\n",
       "    </tr>\n",
       "  </tbody>\n",
       "</table>\n",
       "</div>"
      ],
      "text/plain": [
       "   gross_acres            pin  \\\n",
       "0         5.99  07-36-300-006   \n",
       "1       155.46  07-36-300-004   \n",
       "2        40.00  07-36-100-001   \n",
       "3        69.88  07-35-400-005   \n",
       "4        81.17  07-35-200-005   \n",
       "\n",
       "                                            geometry  \n",
       "0  POLYGON ((939027.737 1747725.599, 939027.787 1...  \n",
       "1  POLYGON ((939557.870 1747744.270, 939027.787 1...  \n",
       "2  POLYGON ((939557.510 1747764.271, 939533.900 1...  \n",
       "3  POLYGON ((936901.360 1747718.210, 936901.020 1...  \n",
       "4  POLYGON ((936901.020 1747738.210, 938232.990 1...  "
      ]
     },
     "execution_count": 12,
     "metadata": {},
     "output_type": "execute_result"
    }
   ],
   "source": [
    "p_df.head()"
   ]
  },
  {
   "cell_type": "markdown",
   "metadata": {
    "hidden": true,
    "slideshow": {
     "slide_type": "subslide"
    }
   },
   "source": [
    "With spatial objects, too, it can be helpful to see the shapes, so we'll also make use of the `plot` method. Note that in standard pandas, this returns a graph. In GeoPandas, however, [plot](https://geopandas.org/docs/reference/api/geopandas.GeoDataFrame.plot.html?highlight=plot#geopandas.GeoDataFrame.plot) will look for a geometry column to visualize instead."
   ]
  },
  {
   "cell_type": "code",
   "execution_count": 13,
   "metadata": {
    "hidden": true,
    "slideshow": {
     "slide_type": "fragment"
    }
   },
   "outputs": [
    {
     "data": {
      "text/plain": [
       "<AxesSubplot:>"
      ]
     },
     "execution_count": 13,
     "metadata": {},
     "output_type": "execute_result"
    },
    {
     "data": {
      "image/png": "[encoded data removed]",
      "text/plain": [
       "<Figure size 432x288 with 1 Axes>"
      ]
     },
     "metadata": {
      "needs_background": "light"
     },
     "output_type": "display_data"
    }
   ],
   "source": [
    "p_df.plot(column='pin', legend=True)"
   ]
  },
  {
   "cell_type": "markdown",
   "metadata": {
    "hidden": true,
    "slideshow": {
     "slide_type": "subslide"
    }
   },
   "source": [
    "## Adding Calculated Area"
   ]
  },
  {
   "cell_type": "markdown",
   "metadata": {
    "hidden": true,
    "slideshow": {
     "slide_type": "fragment"
    }
   },
   "source": [
    "In order to accurately calculate our farm cards, we'll be using the calculated area of the geometry in the given spatial reference. *Deeded* acreage trumps *actual* acreage, though, so we need to be able to scale our calculations accordingly.\n",
    "\n",
    "To do this, we'll create a new column in the dataframe, `calc_area`. GeoDataFrames have a built-in property `area`, which returns the area of the shape in the given spatial reference."
   ]
  },
  {
   "cell_type": "markdown",
   "metadata": {
    "hidden": true,
    "slideshow": {
     "slide_type": "subslide"
    }
   },
   "source": [
    "Note that dataframes are similar to dictionaries in other languages, in that new keys / columns can be defined simply by assigning a value to `dataframe['newcolumn']`."
   ]
  },
  {
   "cell_type": "code",
   "execution_count": 14,
   "metadata": {
    "hidden": true,
    "slideshow": {
     "slide_type": "fragment"
    }
   },
   "outputs": [],
   "source": [
    "p_df['calc_area'] = p_df.area"
   ]
  },
  {
   "cell_type": "code",
   "execution_count": 15,
   "metadata": {
    "hidden": true,
    "slideshow": {
     "slide_type": "fragment"
    }
   },
   "outputs": [
    {
     "data": {
      "text/html": [
       "<div>\n",
       "<style scoped>\n",
       "    .dataframe tbody tr th:only-of-type {\n",
       "        vertical-align: middle;\n",
       "    }\n",
       "\n",
       "    .dataframe tbody tr th {\n",
       "        vertical-align: top;\n",
       "    }\n",
       "\n",
       "    .dataframe thead th {\n",
       "        text-align: right;\n",
       "    }\n",
       "</style>\n",
       "<table border=\"1\" class=\"dataframe\">\n",
       "  <thead>\n",
       "    <tr style=\"text-align: right;\">\n",
       "      <th></th>\n",
       "      <th>gross_acres</th>\n",
       "      <th>pin</th>\n",
       "      <th>geometry</th>\n",
       "      <th>calc_area</th>\n",
       "    </tr>\n",
       "  </thead>\n",
       "  <tbody>\n",
       "    <tr>\n",
       "      <th>0</th>\n",
       "      <td>5.99</td>\n",
       "      <td>07-36-300-006</td>\n",
       "      <td>POLYGON ((939027.737 1747725.599, 939027.787 1...</td>\n",
       "      <td>2.611347e+05</td>\n",
       "    </tr>\n",
       "    <tr>\n",
       "      <th>1</th>\n",
       "      <td>155.46</td>\n",
       "      <td>07-36-300-004</td>\n",
       "      <td>POLYGON ((939557.870 1747744.270, 939027.787 1...</td>\n",
       "      <td>6.768869e+06</td>\n",
       "    </tr>\n",
       "    <tr>\n",
       "      <th>2</th>\n",
       "      <td>40.00</td>\n",
       "      <td>07-36-100-001</td>\n",
       "      <td>POLYGON ((939557.510 1747764.271, 939533.900 1...</td>\n",
       "      <td>1.756259e+06</td>\n",
       "    </tr>\n",
       "    <tr>\n",
       "      <th>3</th>\n",
       "      <td>69.88</td>\n",
       "      <td>07-35-400-005</td>\n",
       "      <td>POLYGON ((936901.360 1747718.210, 936901.020 1...</td>\n",
       "      <td>3.042915e+06</td>\n",
       "    </tr>\n",
       "    <tr>\n",
       "      <th>4</th>\n",
       "      <td>81.17</td>\n",
       "      <td>07-35-200-005</td>\n",
       "      <td>POLYGON ((936901.020 1747738.210, 938232.990 1...</td>\n",
       "      <td>3.533025e+06</td>\n",
       "    </tr>\n",
       "  </tbody>\n",
       "</table>\n",
       "</div>"
      ],
      "text/plain": [
       "   gross_acres            pin  \\\n",
       "0         5.99  07-36-300-006   \n",
       "1       155.46  07-36-300-004   \n",
       "2        40.00  07-36-100-001   \n",
       "3        69.88  07-35-400-005   \n",
       "4        81.17  07-35-200-005   \n",
       "\n",
       "                                            geometry     calc_area  \n",
       "0  POLYGON ((939027.737 1747725.599, 939027.787 1...  2.611347e+05  \n",
       "1  POLYGON ((939557.870 1747744.270, 939027.787 1...  6.768869e+06  \n",
       "2  POLYGON ((939557.510 1747764.271, 939533.900 1...  1.756259e+06  \n",
       "3  POLYGON ((936901.360 1747718.210, 936901.020 1...  3.042915e+06  \n",
       "4  POLYGON ((936901.020 1747738.210, 938232.990 1...  3.533025e+06  "
      ]
     },
     "execution_count": 15,
     "metadata": {},
     "output_type": "execute_result"
    }
   ],
   "source": [
    "p_df.head()"
   ]
  },
  {
   "cell_type": "markdown",
   "metadata": {
    "hidden": true,
    "slideshow": {
     "slide_type": "subslide"
    }
   },
   "source": [
    "You'll notice the calculated area is in square feet, not acres. The calculated units don't actually matter, though, as will be evident later on. For now, we have enough to move on to our other layers."
   ]
  },
  {
   "cell_type": "markdown",
   "metadata": {
    "heading_collapsed": true,
    "slideshow": {
     "slide_type": "slide"
    }
   },
   "source": [
    "# Landuse and Soils"
   ]
  },
  {
   "cell_type": "markdown",
   "metadata": {
    "hidden": true,
    "slideshow": {
     "slide_type": "subslide"
    }
   },
   "source": [
    "## Spatial Filter\n",
    "\n",
    "In order to get only those features which are relevant to the above parcels, we need need to supply a **spatial filter** for our query.\n",
    "\n",
    "If we wanted to be fancy, we *could* submit the individual geometries themselves. But let's keep things simple. As we are working with contiguous parcels in a small area, we just need an envelope that contains all of them."
   ]
  },
  {
   "cell_type": "markdown",
   "metadata": {
    "hidden": true,
    "slideshow": {
     "slide_type": "subslide"
    }
   },
   "source": [
    "GeoDataFrames have another useful property, `total_bounds`. This returns an array of the min/max x and y of all the features."
   ]
  },
  {
   "cell_type": "code",
   "execution_count": 18,
   "metadata": {
    "hidden": true,
    "slideshow": {
     "slide_type": "fragment"
    }
   },
   "outputs": [
    {
     "data": {
      "text/plain": [
       "array([ 935547.63003691, 1745088.97999482,  940932.34991049,\n",
       "       1749073.16001857])"
      ]
     },
     "execution_count": 18,
     "metadata": {},
     "output_type": "execute_result"
    }
   ],
   "source": [
    "p_df.total_bounds"
   ]
  },
  {
   "cell_type": "markdown",
   "metadata": {
    "hidden": true,
    "slideshow": {
     "slide_type": "fragment"
    }
   },
   "source": [
    "We'll be constructing an **esriGeometryEnvelope** for the spatial filter, which needs to be in the format `'min_x, min_y, max_x, max_y'`.\n",
    "\n",
    "We can't use `join` on *float* objects, so we'll use some more list comprehension to convert the list to *strings* first."
   ]
  },
  {
   "cell_type": "code",
   "execution_count": 19,
   "metadata": {
    "hidden": true,
    "slideshow": {
     "slide_type": "fragment"
    }
   },
   "outputs": [
    {
     "data": {
      "text/plain": [
       "'935547.6300369129,1745088.9799948186,940932.3499104939,1749073.1600185707'"
      ]
     },
     "execution_count": 19,
     "metadata": {},
     "output_type": "execute_result"
    }
   ],
   "source": [
    "bbox = ','.join([str(i) for i in p_df.total_bounds])\n",
    "\n",
    "bbox"
   ]
  },
  {
   "cell_type": "markdown",
   "metadata": {
    "hidden": true,
    "slideshow": {
     "slide_type": "subslide"
    }
   },
   "source": [
    "## Constructing Queries\n",
    "\n",
    "The queries for our landuse and soils data will actually be the same.\n",
    "\n",
    "We want all the fields of all the features that *intersect* with the `bbox` geometry we just made."
   ]
  },
  {
   "cell_type": "code",
   "execution_count": 20,
   "metadata": {
    "hidden": true,
    "slideshow": {
     "slide_type": "fragment"
    }
   },
   "outputs": [],
   "source": [
    "farm_params = {\n",
    "    'where': '1=1',\n",
    "    'outFields': '*',\n",
    "    'returnGeometry': True,\n",
    "    'geometryType': 'esriGeometryEnvelope',\n",
    "    'geometry': bbox,\n",
    "    'spatialRel': 'esriSpatialRelIntersects',\n",
    "    'outSR': sr,\n",
    "    'f': 'geojson'\n",
    "}"
   ]
  },
  {
   "cell_type": "markdown",
   "metadata": {
    "hidden": true,
    "slideshow": {
     "slide_type": "subslide"
    }
   },
   "source": [
    "### Soils"
   ]
  },
  {
   "cell_type": "code",
   "execution_count": 21,
   "metadata": {
    "hidden": true,
    "slideshow": {
     "slide_type": "fragment"
    }
   },
   "outputs": [],
   "source": [
    "soils = requests.get(soils_url, farm_params)\n",
    "\n",
    "s_df = gp.read_file(soils.text)"
   ]
  },
  {
   "cell_type": "code",
   "execution_count": 22,
   "metadata": {
    "hidden": true,
    "slideshow": {
     "slide_type": "fragment"
    }
   },
   "outputs": [
    {
     "data": {
      "text/html": [
       "<div>\n",
       "<style scoped>\n",
       "    .dataframe tbody tr th:only-of-type {\n",
       "        vertical-align: middle;\n",
       "    }\n",
       "\n",
       "    .dataframe tbody tr th {\n",
       "        vertical-align: top;\n",
       "    }\n",
       "\n",
       "    .dataframe thead th {\n",
       "        text-align: right;\n",
       "    }\n",
       "</style>\n",
       "<table border=\"1\" class=\"dataframe\">\n",
       "  <thead>\n",
       "    <tr style=\"text-align: right;\">\n",
       "      <th></th>\n",
       "      <th>objectid</th>\n",
       "      <th>musym</th>\n",
       "      <th>globalid</th>\n",
       "      <th>soil_type</th>\n",
       "      <th>slope</th>\n",
       "      <th>SHAPE__Length</th>\n",
       "      <th>SHAPE__Area</th>\n",
       "      <th>geometry</th>\n",
       "    </tr>\n",
       "  </thead>\n",
       "  <tbody>\n",
       "    <tr>\n",
       "      <th>0</th>\n",
       "      <td>394</td>\n",
       "      <td>145B</td>\n",
       "      <td>{2D794A20-B7EF-45FF-B655-F855FC78D003}</td>\n",
       "      <td>145</td>\n",
       "      <td>B1</td>\n",
       "      <td>5383.604829</td>\n",
       "      <td>9.445314e+05</td>\n",
       "      <td>POLYGON ((936003.251 1749618.066, 935921.164 1...</td>\n",
       "    </tr>\n",
       "    <tr>\n",
       "      <th>1</th>\n",
       "      <td>1685</td>\n",
       "      <td>148A</td>\n",
       "      <td>{5EBBE6AD-7B76-4A12-A35C-D9F265C7EED9}</td>\n",
       "      <td>148</td>\n",
       "      <td>A1</td>\n",
       "      <td>15587.239787</td>\n",
       "      <td>3.654991e+06</td>\n",
       "      <td>POLYGON ((937346.980 1749254.753, 937291.739 1...</td>\n",
       "    </tr>\n",
       "    <tr>\n",
       "      <th>2</th>\n",
       "      <td>1687</td>\n",
       "      <td>148A</td>\n",
       "      <td>{0B178009-AC76-4C21-9DE8-6EBC831ABFC7}</td>\n",
       "      <td>148</td>\n",
       "      <td>A1</td>\n",
       "      <td>1937.991528</td>\n",
       "      <td>2.746759e+05</td>\n",
       "      <td>POLYGON ((938637.996 1749031.941, 938688.959 1...</td>\n",
       "    </tr>\n",
       "    <tr>\n",
       "      <th>3</th>\n",
       "      <td>1691</td>\n",
       "      <td>148A</td>\n",
       "      <td>{1133755D-D7B5-43DD-B8EA-DE8C741F2C79}</td>\n",
       "      <td>148</td>\n",
       "      <td>A1</td>\n",
       "      <td>16601.097438</td>\n",
       "      <td>5.418792e+06</td>\n",
       "      <td>POLYGON ((940237.499 1750323.332, 940178.465 1...</td>\n",
       "    </tr>\n",
       "    <tr>\n",
       "      <th>4</th>\n",
       "      <td>1805</td>\n",
       "      <td>148B</td>\n",
       "      <td>{F4BF534B-E5FC-4DCA-A06B-852CB138650D}</td>\n",
       "      <td>148</td>\n",
       "      <td>B1</td>\n",
       "      <td>7334.794554</td>\n",
       "      <td>9.237701e+05</td>\n",
       "      <td>POLYGON ((934847.255 1745199.208, 934876.396 1...</td>\n",
       "    </tr>\n",
       "  </tbody>\n",
       "</table>\n",
       "</div>"
      ],
      "text/plain": [
       "   objectid musym                                globalid soil_type slope  \\\n",
       "0       394  145B  {2D794A20-B7EF-45FF-B655-F855FC78D003}       145    B1   \n",
       "1      1685  148A  {5EBBE6AD-7B76-4A12-A35C-D9F265C7EED9}       148    A1   \n",
       "2      1687  148A  {0B178009-AC76-4C21-9DE8-6EBC831ABFC7}       148    A1   \n",
       "3      1691  148A  {1133755D-D7B5-43DD-B8EA-DE8C741F2C79}       148    A1   \n",
       "4      1805  148B  {F4BF534B-E5FC-4DCA-A06B-852CB138650D}       148    B1   \n",
       "\n",
       "   SHAPE__Length   SHAPE__Area  \\\n",
       "0    5383.604829  9.445314e+05   \n",
       "1   15587.239787  3.654991e+06   \n",
       "2    1937.991528  2.746759e+05   \n",
       "3   16601.097438  5.418792e+06   \n",
       "4    7334.794554  9.237701e+05   \n",
       "\n",
       "                                            geometry  \n",
       "0  POLYGON ((936003.251 1749618.066, 935921.164 1...  \n",
       "1  POLYGON ((937346.980 1749254.753, 937291.739 1...  \n",
       "2  POLYGON ((938637.996 1749031.941, 938688.959 1...  \n",
       "3  POLYGON ((940237.499 1750323.332, 940178.465 1...  \n",
       "4  POLYGON ((934847.255 1745199.208, 934876.396 1...  "
      ]
     },
     "execution_count": 22,
     "metadata": {},
     "output_type": "execute_result"
    }
   ],
   "source": [
    "s_df.head()"
   ]
  },
  {
   "cell_type": "markdown",
   "metadata": {
    "hidden": true,
    "slideshow": {
     "slide_type": "subslide"
    }
   },
   "source": [
    "### Landuse"
   ]
  },
  {
   "cell_type": "code",
   "execution_count": 23,
   "metadata": {
    "hidden": true,
    "slideshow": {
     "slide_type": "fragment"
    }
   },
   "outputs": [],
   "source": [
    "landuse = requests.get(landuse_url, farm_params)\n",
    "\n",
    "l_df = gp.read_file(landuse.text)"
   ]
  },
  {
   "cell_type": "code",
   "execution_count": 24,
   "metadata": {
    "hidden": true,
    "slideshow": {
     "slide_type": "fragment"
    }
   },
   "outputs": [
    {
     "data": {
      "text/html": [
       "<div>\n",
       "<style scoped>\n",
       "    .dataframe tbody tr th:only-of-type {\n",
       "        vertical-align: middle;\n",
       "    }\n",
       "\n",
       "    .dataframe tbody tr th {\n",
       "        vertical-align: top;\n",
       "    }\n",
       "\n",
       "    .dataframe thead th {\n",
       "        text-align: right;\n",
       "    }\n",
       "</style>\n",
       "<table border=\"1\" class=\"dataframe\">\n",
       "  <thead>\n",
       "    <tr style=\"text-align: right;\">\n",
       "      <th></th>\n",
       "      <th>objectid</th>\n",
       "      <th>landuse</th>\n",
       "      <th>globalid</th>\n",
       "      <th>landuse_type</th>\n",
       "      <th>SHAPE__Length</th>\n",
       "      <th>SHAPE__Area</th>\n",
       "      <th>geometry</th>\n",
       "    </tr>\n",
       "  </thead>\n",
       "  <tbody>\n",
       "    <tr>\n",
       "      <th>0</th>\n",
       "      <td>1739</td>\n",
       "      <td>CR</td>\n",
       "      <td>{180B5AB0-6384-457A-A27B-600364F279D4}</td>\n",
       "      <td>2</td>\n",
       "      <td>5471.262603</td>\n",
       "      <td>1.285937e+06</td>\n",
       "      <td>POLYGON ((934712.266 1745074.442, 934958.210 1...</td>\n",
       "    </tr>\n",
       "    <tr>\n",
       "      <th>1</th>\n",
       "      <td>1740</td>\n",
       "      <td>CR</td>\n",
       "      <td>{12ECCE76-2254-458E-91A3-0F546F3C27A3}</td>\n",
       "      <td>2</td>\n",
       "      <td>1672.684633</td>\n",
       "      <td>8.767614e+04</td>\n",
       "      <td>POLYGON ((935556.525 1747280.123, 935549.610 1...</td>\n",
       "    </tr>\n",
       "    <tr>\n",
       "      <th>2</th>\n",
       "      <td>1741</td>\n",
       "      <td>CR</td>\n",
       "      <td>{79E92BF8-DF93-46E0-8951-28EFF402B7DB}</td>\n",
       "      <td>2</td>\n",
       "      <td>13225.049770</td>\n",
       "      <td>6.456598e+06</td>\n",
       "      <td>POLYGON ((943529.140 1746253.643, 943527.871 1...</td>\n",
       "    </tr>\n",
       "    <tr>\n",
       "      <th>3</th>\n",
       "      <td>1742</td>\n",
       "      <td>CR</td>\n",
       "      <td>{6788F7F1-D79C-48A1-97E3-2EC676726216}</td>\n",
       "      <td>2</td>\n",
       "      <td>9891.950064</td>\n",
       "      <td>4.907331e+06</td>\n",
       "      <td>POLYGON ((939564.102 1747418.142, 939558.640 1...</td>\n",
       "    </tr>\n",
       "    <tr>\n",
       "      <th>4</th>\n",
       "      <td>1743</td>\n",
       "      <td>CR</td>\n",
       "      <td>{4CF43653-D762-4AB6-8538-EEE9CE9AEDDA}</td>\n",
       "      <td>2</td>\n",
       "      <td>2277.846824</td>\n",
       "      <td>1.612382e+05</td>\n",
       "      <td>MULTIPOLYGON (((938512.191 1747711.903, 938233...</td>\n",
       "    </tr>\n",
       "  </tbody>\n",
       "</table>\n",
       "</div>"
      ],
      "text/plain": [
       "   objectid landuse                                globalid  landuse_type  \\\n",
       "0      1739      CR  {180B5AB0-6384-457A-A27B-600364F279D4}             2   \n",
       "1      1740      CR  {12ECCE76-2254-458E-91A3-0F546F3C27A3}             2   \n",
       "2      1741      CR  {79E92BF8-DF93-46E0-8951-28EFF402B7DB}             2   \n",
       "3      1742      CR  {6788F7F1-D79C-48A1-97E3-2EC676726216}             2   \n",
       "4      1743      CR  {4CF43653-D762-4AB6-8538-EEE9CE9AEDDA}             2   \n",
       "\n",
       "   SHAPE__Length   SHAPE__Area  \\\n",
       "0    5471.262603  1.285937e+06   \n",
       "1    1672.684633  8.767614e+04   \n",
       "2   13225.049770  6.456598e+06   \n",
       "3    9891.950064  4.907331e+06   \n",
       "4    2277.846824  1.612382e+05   \n",
       "\n",
       "                                            geometry  \n",
       "0  POLYGON ((934712.266 1745074.442, 934958.210 1...  \n",
       "1  POLYGON ((935556.525 1747280.123, 935549.610 1...  \n",
       "2  POLYGON ((943529.140 1746253.643, 943527.871 1...  \n",
       "3  POLYGON ((939564.102 1747418.142, 939558.640 1...  \n",
       "4  MULTIPOLYGON (((938512.191 1747711.903, 938233...  "
      ]
     },
     "execution_count": 24,
     "metadata": {},
     "output_type": "execute_result"
    }
   ],
   "source": [
    "l_df.head()"
   ]
  },
  {
   "cell_type": "markdown",
   "metadata": {
    "hidden": true,
    "slideshow": {
     "slide_type": "subslide"
    }
   },
   "source": [
    "## Wrap it Up: Visualization\n",
    "\n",
    "Before moving on, let's visualize our dataframes all together."
   ]
  },
  {
   "cell_type": "code",
   "execution_count": 30,
   "metadata": {
    "hidden": true,
    "slideshow": {
     "slide_type": "subslide"
    }
   },
   "outputs": [
    {
     "data": {
      "image/png": "[encoded data removed]",
      "text/plain": [
       "<Figure size 1296x720 with 3 Axes>"
      ]
     },
     "metadata": {
      "needs_background": "light"
     },
     "output_type": "display_data"
    }
   ],
   "source": [
    "fig, axs = plt.subplots(1,3, figsize=(18,10), sharex=True, sharey=True)\n",
    "\n",
    "p_df.plot(column='pin', ax=axs[0])\n",
    "s_df.plot(column='musym', ax=axs[1])\n",
    "l_df.plot(column='landuse_type', ax=axs[2])\n",
    "\n",
    "axs[0].set_title('Parcels')\n",
    "axs[1].set_title('Soils')\n",
    "axs[2].set_title('Landuse')\n",
    "\n",
    "plt.show()"
   ]
  },
  {
   "cell_type": "markdown",
   "metadata": {
    "slideshow": {
     "slide_type": "slide"
    }
   },
   "source": [
    "# Spatial Analysis"
   ]
  },
  {
   "cell_type": "markdown",
   "metadata": {
    "slideshow": {
     "slide_type": "subslide"
    }
   },
   "source": [
    "We have our intersecting dataframes, now we need to bring them together. We'll be using the GeoPandas method `overlay`, which combines two dataframes based on a spatial relationship.\n",
    "\n",
    "For our purposes, we will be using **intersection**, as we are only interested in the areas that truly overlap."
   ]
  },
  {
   "cell_type": "code",
   "execution_count": null,
   "metadata": {
    "slideshow": {
     "slide_type": "subslide"
    }
   },
   "outputs": [],
   "source": [
    "df = gp.overlay(p_df, s_df, how='intersection')\n",
    "df = gp.overlay(df, l_df, how='intersection')"
   ]
  },
  {
   "cell_type": "code",
   "execution_count": null,
   "metadata": {},
   "outputs": [],
   "source": [
    "df_keeps = [\n",
    "    'gross_acres',\n",
    "    'gis_acres',\n",
    "    'calc_area',\n",
    "    'pin',\n",
    "    'soil_type',\n",
    "    'slope',\n",
    "    'landuse_type',\n",
    "    'geometry'\n",
    "]\n",
    "\n",
    "for c in df:\n",
    "    if c not in df_keeps:\n",
    "        del df[c]\n",
    "\n",
    "df.head()"
   ]
  },
  {
   "cell_type": "code",
   "execution_count": null,
   "metadata": {},
   "outputs": [],
   "source": [
    "df = df.assign(part_acres=df['gross_acres'] / df['calc_area'] * df.area)\n",
    "df.drop(['gross_acres', 'calc_area'], axis=1, inplace=True)\n",
    "\n",
    "df.head()"
   ]
  },
  {
   "cell_type": "code",
   "execution_count": null,
   "metadata": {},
   "outputs": [],
   "source": [
    "out_cols = ['pin', 'soil_type', 'slope', 'landuse_type']\n",
    "\n",
    "# Dashes out of PIN\n",
    "df['pin'] = df['pin'].str.replace('-', '')\n",
    "\n",
    "# Prepend LU w/ 0\n",
    "df['landuse_type'] = df['landuse_type'].astype('str')\n",
    "\n",
    "# Sort values\n",
    "df.sort_values(by=out_cols, ignore_index=True, inplace=True)\n",
    "\n",
    "# Group identical columns, sum acreage\n",
    "df = df.groupby(by=out_cols, as_index=False).sum()\n",
    "\n",
    "# Round acreage\n",
    "df['part_acres'] = round(df['part_acres'], 4)\n",
    "\n",
    "# Drop rows w/ 0 acreage\n",
    "df = df[df['part_acres'] > 0]"
   ]
  },
  {
   "cell_type": "code",
   "execution_count": null,
   "metadata": {},
   "outputs": [],
   "source": [
    "df.to_csv(f'./farm_output_{datetime.now().strftime(\"%Y%m%d\")}.txt', sep='\\t', header=False, index=False)"
   ]
  }
 ],
 "metadata": {
  "celltoolbar": "Slideshow",
  "esriNotebookRuntime": {
   "notebookRuntimeName": "ArcGIS Notebook Python 3 Standard",
   "notebookRuntimeVersion": "4.0"
  },
  "kernelspec": {
   "display_name": "Python 3",
   "language": "python",
   "name": "python3"
  },
  "language_info": {
   "codemirror_mode": {
    "name": "ipython",
    "version": 3
   },
   "file_extension": ".py",
   "mimetype": "text/x-python",
   "name": "python",
   "nbconvert_exporter": "python",
   "pygments_lexer": "ipython3",
   "version": "3.8.6"
  }
 },
 "nbformat": 4,
 "nbformat_minor": 2
}
