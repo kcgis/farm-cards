{
 "metadata": {
  "language_info": {
   "codemirror_mode": {
    "name": "ipython",
    "version": 3
   },
   "file_extension": ".py",
   "mimetype": "text/x-python",
   "name": "python",
   "nbconvert_exporter": "python",
   "pygments_lexer": "ipython3",
   "version": "3.8.6-final"
  },
  "orig_nbformat": 2,
  "kernelspec": {
   "name": "python3",
   "display_name": "Python 3.8.6 64-bit ('arcgis': conda)",
   "metadata": {
    "interpreter": {
     "hash": "6496ed22774c6ffa882daf3ef932ea1f5c3f0bcb50dcdaab6eb158dec9d9d526"
    }
   }
  }
 },
 "nbformat": 4,
 "nbformat_minor": 2,
 "cells": [
  {
   "cell_type": "code",
   "execution_count": 49,
   "metadata": {},
   "outputs": [],
   "source": [
    "import requests\n",
    "import geopandas as gp\n",
    "import pandas as pd\n",
    "import matplotlib.pyplot as plt"
   ]
  },
  {
   "cell_type": "code",
   "execution_count": 15,
   "metadata": {},
   "outputs": [],
   "source": [
    "parcels_url = 'https://maps.co.kendall.il.us/server/rest/services/Hosted/Current_Cadastral_Features/FeatureServer/1/query?'"
   ]
  },
  {
   "cell_type": "code",
   "execution_count": 103,
   "metadata": {},
   "outputs": [
    {
     "output_type": "execute_result",
     "data": {
      "text/plain": [
       "0    '07-35-400-005'\n",
       "1    '07-36-300-004'\n",
       "2    '07-36-300-006'\n",
       "3    '07-36-100-001'\n",
       "4    '07-35-200-005'\n",
       "dtype: object"
      ]
     },
     "metadata": {},
     "execution_count": 103
    }
   ],
   "source": [
    "with open('pins.txt', 'r') as file:\n",
    "    pin_list = pd.Series(file.read().split('\\n'))\n",
    "\n",
    "pin_list = pin_list.str.replace('^(?=.)|(?<=.)$', \"'\")\n",
    "\n",
    "pin_list"
   ]
  },
  {
   "cell_type": "code",
   "execution_count": 104,
   "metadata": {},
   "outputs": [],
   "source": [
    "parcels_params = {\n",
    "    'where': f\"pin in ({','.join(pin_list.to_list())})\",\n",
    "    'outFields': 'gross_acres, gis_acres, pin',\n",
    "    'f': 'geojson'\n",
    "}"
   ]
  },
  {
   "cell_type": "code",
   "execution_count": 107,
   "metadata": {},
   "outputs": [
    {
     "output_type": "execute_result",
     "data": {
      "text/plain": [
       "   gross_acres   gis_acres            pin  \\\n",
       "0        81.17   81.107012  07-35-200-005   \n",
       "1       155.46  155.391715  07-36-300-004   \n",
       "2         5.99    5.994821  07-36-300-006   \n",
       "3        40.00   40.318124  07-36-100-001   \n",
       "4        69.88   69.855670  07-35-400-005   \n",
       "\n",
       "                                            geometry  \n",
       "0  POLYGON ((-88.50610 41.46514, -88.50124 41.465...  \n",
       "1  POLYGON ((-88.49640 41.46517, -88.49834 41.465...  \n",
       "2  POLYGON ((-88.49834 41.46512, -88.49834 41.465...  \n",
       "3  POLYGON ((-88.49640 41.46522, -88.49650 41.468...  \n",
       "4  POLYGON ((-88.50610 41.46508, -88.50610 41.465...  "
      ],
      "text/html": "<div>\n<style scoped>\n    .dataframe tbody tr th:only-of-type {\n        vertical-align: middle;\n    }\n\n    .dataframe tbody tr th {\n        vertical-align: top;\n    }\n\n    .dataframe thead th {\n        text-align: right;\n    }\n</style>\n<table border=\"1\" class=\"dataframe\">\n  <thead>\n    <tr style=\"text-align: right;\">\n      <th></th>\n      <th>gross_acres</th>\n      <th>gis_acres</th>\n      <th>pin</th>\n      <th>geometry</th>\n    </tr>\n  </thead>\n  <tbody>\n    <tr>\n      <th>0</th>\n      <td>81.17</td>\n      <td>81.107012</td>\n      <td>07-35-200-005</td>\n      <td>POLYGON ((-88.50610 41.46514, -88.50124 41.465...</td>\n    </tr>\n    <tr>\n      <th>1</th>\n      <td>155.46</td>\n      <td>155.391715</td>\n      <td>07-36-300-004</td>\n      <td>POLYGON ((-88.49640 41.46517, -88.49834 41.465...</td>\n    </tr>\n    <tr>\n      <th>2</th>\n      <td>5.99</td>\n      <td>5.994821</td>\n      <td>07-36-300-006</td>\n      <td>POLYGON ((-88.49834 41.46512, -88.49834 41.465...</td>\n    </tr>\n    <tr>\n      <th>3</th>\n      <td>40.00</td>\n      <td>40.318124</td>\n      <td>07-36-100-001</td>\n      <td>POLYGON ((-88.49640 41.46522, -88.49650 41.468...</td>\n    </tr>\n    <tr>\n      <th>4</th>\n      <td>69.88</td>\n      <td>69.855670</td>\n      <td>07-35-400-005</td>\n      <td>POLYGON ((-88.50610 41.46508, -88.50610 41.465...</td>\n    </tr>\n  </tbody>\n</table>\n</div>"
     },
     "metadata": {},
     "execution_count": 107
    }
   ],
   "source": [
    "parcels = requests.get(parcels_url, parcels_params)\n",
    "\n",
    "p_df = gp.read_file(parcels.text)\n",
    "\n",
    "p_df.head()"
   ]
  },
  {
   "cell_type": "code",
   "execution_count": null,
   "metadata": {},
   "outputs": [],
   "source": []
  }
 ]
}